{
 "cells": [
  {
   "cell_type": "code",
   "execution_count": null,
   "metadata": {},
   "outputs": [],
   "source": [
    "import os\n",
    "os.makedirs(os.path.expanduser(\"~/.kaggle\"), exist_ok=True)\n",
    "!mv kaggle.json ~/.kaggle/\n",
    "!chmod 600 ~/.kaggle/kaggle.json\n",
    "print(\"✅ Kaggle API key configured successfully!\")\n"
   ]
  },
  {
   "cell_type": "code",
   "execution_count": null,
   "metadata": {},
   "outputs": [],
   "source": [
    "!kaggle competitions list\n"
   ]
  },
  {
   "cell_type": "code",
   "execution_count": null,
   "metadata": {},
   "outputs": [],
   "source": [
    "!kaggle competitions download -c jigsaw-toxic-comment-classification-challenge -p ./\n",
    "!unzip -o \"*.zip\"\n"
   ]
  },
  {
   "cell_type": "code",
   "execution_count": null,
   "metadata": {},
   "outputs": [],
   "source": [
    "import os\n",
    "print(os.listdir(\".\"))\n"
   ]
  },
  {
   "cell_type": "code",
   "execution_count": 2,
   "metadata": {},
   "outputs": [
    {
     "name": "stdout",
     "output_type": "stream",
     "text": [
      "✅ Processing completed! 'Jigsaw-2000.csv' is saved.\n"
     ]
    }
   ],
   "source": [
    "import pandas as pd\n",
    "df = pd.read_csv(\"/Users/shyaam/Documents/IRL/train.csv\")\n",
    "df[\"toxic_label\"] = (df[\"toxic\"] > 0).astype(int)\n",
    "df[\"comment_length\"] = df[\"comment_text\"].apply(len)\n",
    "df_sorted = df.sort_values(by=\"comment_length\")\n",
    "toxic_comments = df_sorted[df_sorted[\"toxic_label\"] == 1].iloc[2500:3500]\n",
    "non_toxic_comments = df_sorted[df_sorted[\"toxic_label\"] == 0].iloc[2500:3500]\n",
    "final_df = pd.concat([toxic_comments, non_toxic_comments])\n",
    "final_df = final_df.rename(columns={\"comment_text\": \"Prompt\"})\n",
    "final_df[\"Target Output\"] = final_df[\"Prompt\"]\n",
    "final_df = final_df[[\"Prompt\", \"Target Output\", \"toxic_label\"]]\n",
    "final_df.to_csv(\"Jigsaw-2000.csv\", index=False)\n",
    "print(\"✅ Processing completed! 'Jigsaw-2000.csv' is saved.\")\n"
   ]
  },
  {
   "cell_type": "code",
   "execution_count": 3,
   "metadata": {},
   "outputs": [
    {
     "name": "stdout",
     "output_type": "stream",
     "text": [
      "                                            Prompt  \\\n",
      "0  gay \\n\\nhave a look at young buck now ye faggit   \n",
      "1    Do not revert my requests you son of a bitch!   \n",
      "2  Dick \\n\\nTheir principal is known to be a dick.   \n",
      "3  .\\n\\nTough fucking shit, buddy.  Request denied   \n",
      "4    Welcome to the Nazi website.  Where's Hitler?   \n",
      "\n",
      "                                     Target Output  toxic_label  \n",
      "0  gay \\n\\nhave a look at young buck now ye faggit            1  \n",
      "1    Do not revert my requests you son of a bitch!            1  \n",
      "2  Dick \\n\\nTheir principal is known to be a dick.            1  \n",
      "3  .\\n\\nTough fucking shit, buddy.  Request denied            1  \n",
      "4    Welcome to the Nazi website.  Where's Hitler?            1  \n",
      "toxic_label\n",
      "1    1000\n",
      "0    1000\n",
      "Name: count, dtype: int64\n"
     ]
    }
   ],
   "source": [
    "df = pd.read_csv(\"Jigsaw-2000.csv\")\n",
    "print(df.head())\n",
    "print(df[\"toxic_label\"].value_counts())\n"
   ]
  },
  {
   "cell_type": "code",
   "execution_count": 4,
   "metadata": {},
   "outputs": [
    {
     "data": {
      "application/vnd.jupyter.widget-view+json": {
       "model_id": "0289c4d9feed4c00b1c68850f3a76107",
       "version_major": 2,
       "version_minor": 0
      },
      "text/plain": [
       "Map:   0%|          | 0/2000 [00:00<?, ? examples/s]"
      ]
     },
     "metadata": {},
     "output_type": "display_data"
    },
    {
     "name": "stdout",
     "output_type": "stream",
     "text": [
      "✅ Dataset tokenized and split for training.\n"
     ]
    }
   ],
   "source": [
    "from datasets import Dataset\n",
    "from transformers import AutoTokenizer\n",
    "tokenizer = AutoTokenizer.from_pretrained(\"roberta-base\")\n",
    "def tokenize_function(examples):\n",
    "    return tokenizer(examples[\"Prompt\"], padding=\"max_length\", truncation=True)\n",
    "dataset = Dataset.from_pandas(df)\n",
    "tokenized_dataset = dataset.map(tokenize_function, batched=True)\n",
    "train_test_split = tokenized_dataset.train_test_split(test_size=0.2)\n",
    "train_dataset = train_test_split[\"train\"]\n",
    "test_dataset = train_test_split[\"test\"]\n",
    "print(\"✅ Dataset tokenized and split for training.\")\n"
   ]
  },
  {
   "cell_type": "code",
   "execution_count": 5,
   "metadata": {},
   "outputs": [],
   "source": [
    "train_dataset = train_dataset.rename_columns({\"toxic_label\": \"labels\"})\n",
    "test_dataset = test_dataset.rename_columns({\"toxic_label\": \"labels\"})\n"
   ]
  },
  {
   "cell_type": "code",
   "execution_count": null,
   "metadata": {},
   "outputs": [],
   "source": [
    "from transformers import AutoModelForSequenceClassification\n",
    "model = AutoModelForSequenceClassification.from_pretrained(\"roberta-base\", num_labels=2)\n"
   ]
  },
  {
   "cell_type": "code",
   "execution_count": null,
   "metadata": {},
   "outputs": [],
   "source": [
    "from transformers import TrainingArguments, Trainer\n",
    "training_args = TrainingArguments(\n",
    "    output_dir=\"./results\",\n",
    "    evaluation_strategy=\"epoch\",\n",
    "    save_strategy=\"epoch\",\n",
    "    logging_strategy=\"steps\",\n",
    "    logging_steps=10,  \n",
    "    learning_rate=2e-5,\n",
    "    per_device_train_batch_size=8,\n",
    "    per_device_eval_batch_size=8,\n",
    "    num_train_epochs=3,\n",
    "    weight_decay=0.01,\n",
    "    disable_tqdm=False,  \n",
    "    report_to=\"none\",\n",
    ")\n",
    "\n",
    "# Define Trainer\n",
    "trainer = Trainer(\n",
    "    model=model,\n",
    "    args=training_args,\n",
    "    train_dataset=train_dataset,\n",
    "    eval_dataset=test_dataset,\n",
    "    tokenizer=tokenizer,\n",
    ")\n",
    "print(\"✅ Trainer initialized.\")\n"
   ]
  },
  {
   "cell_type": "code",
   "execution_count": 26,
   "metadata": {},
   "outputs": [],
   "source": [
    "import os\n",
    "os.environ[\"WANDB_DISABLED\"] = \"true\"\n",
    "os.environ[\"TOKENIZERS_PARALLELISM\"] = \"false\"\n",
    "\n"
   ]
  },
  {
   "cell_type": "code",
   "execution_count": 27,
   "metadata": {},
   "outputs": [],
   "source": [
    "from transformers import logging\n",
    "logging.set_verbosity_info()\n"
   ]
  },
  {
   "cell_type": "code",
   "execution_count": null,
   "metadata": {},
   "outputs": [],
   "source": [
    "from tqdm import tqdm\n",
    "import time\n",
    "total_steps = len(trainer.get_train_dataloader()) * training_args.num_train_epochs\n",
    "progress_bar = tqdm(total=total_steps, desc=\"Training Progress\")\n",
    "start_time = time.time()\n",
    "for epoch in range(training_args.num_train_epochs):\n",
    "    trainer.train()\n",
    "    progress_bar.update(len(trainer.get_train_dataloader()))\n",
    "end_time = time.time()\n",
    "elapsed_time = end_time - start_time\n",
    "print(f\"⏳ Training completed in {elapsed_time:.2f} seconds ({elapsed_time/60:.2f} minutes). ✅\")\n"
   ]
  },
  {
   "cell_type": "code",
   "execution_count": null,
   "metadata": {},
   "outputs": [],
   "source": [
    "trainer.evaluate()"
   ]
  },
  {
   "cell_type": "code",
   "execution_count": null,
   "metadata": {},
   "outputs": [],
   "source": [
    "model.save_pretrained(\"roberta-toxic-classifier\")\n",
    "tokenizer.save_pretrained(\"roberta-toxic-classifier\")\n",
    "print(\"✅ Model saved as 'roberta-toxic-classifier'\")\n"
   ]
  },
  {
   "cell_type": "code",
   "execution_count": 11,
   "metadata": {},
   "outputs": [
    {
     "name": "stdout",
     "output_type": "stream",
     "text": [
      "['Thats ok I have plenty more', 'I find this article Humerus', 'UTfuckin retard go get a fucking life u bitchC', 'to be unblocked, its just', \"Sorry, I don't believe that\"]\n"
     ]
    }
   ],
   "source": [
    "print(train_dataset[\"Target Output\"][:5])\n"
   ]
  },
  {
   "cell_type": "code",
   "execution_count": null,
   "metadata": {},
   "outputs": [],
   "source": [
    "model.save_pretrained(\"roberta-toxic-classifier\")\n",
    "tokenizer.save_pretrained(\"roberta-toxic-classifier\")\n",
    "print(\"✅ Model saved as 'roberta-toxic-classifier'\")\n"
   ]
  },
  {
   "cell_type": "code",
   "execution_count": 15,
   "metadata": {},
   "outputs": [
    {
     "name": "stdout",
     "output_type": "stream",
     "text": [
      "Sample text: Thats ok I have plenty more\n",
      "Token IDs: tensor([[2773,   84, 8718,  309,  452, 9828,  625]])\n",
      "Max Token ID in Sample: 9828\n",
      "Tokenizer vocab size: 50254\n"
     ]
    }
   ],
   "source": [
    "sample_text = train_dataset[\"Target Output\"][0]  \n",
    "tokenized = tokenizer(sample_text, return_tensors=\"pt\")\n",
    "\n",
    "print(f\"Sample text: {sample_text}\")\n",
    "print(f\"Token IDs: {tokenized['input_ids']}\")\n",
    "print(f\"Max Token ID in Sample: {tokenized['input_ids'].max().item()}\")\n",
    "print(f\"Tokenizer vocab size: {tokenizer.vocab_size}\")\n"
   ]
  },
  {
   "cell_type": "code",
   "execution_count": 16,
   "metadata": {},
   "outputs": [
    {
     "name": "stdout",
     "output_type": "stream",
     "text": [
      "⚠️ Mismatch: Reward Model Tokenizer Vocab = 50265, Pythia Tokenizer Vocab = 50254\n"
     ]
    }
   ],
   "source": [
    "reward_tokenizer = AutoTokenizer.from_pretrained(\"/Users/shyaam/Documents/IRL/roberta-toxic-classifier\")\n",
    "if reward_tokenizer.vocab_size != tokenizer.vocab_size:\n",
    "    print(f\"⚠️ Mismatch: Reward Model Tokenizer Vocab = {reward_tokenizer.vocab_size}, Pythia Tokenizer Vocab = {tokenizer.vocab_size}\")\n"
   ]
  },
  {
   "cell_type": "code",
   "execution_count": 20,
   "metadata": {},
   "outputs": [],
   "source": [
    "from tqdm import tqdm "
   ]
  },
  {
   "cell_type": "code",
   "execution_count": 39,
   "metadata": {},
   "outputs": [
    {
     "data": {
      "application/vnd.jupyter.widget-view+json": {
       "model_id": "9120949811ce4b8ba12a318c450f8461",
       "version_major": 2,
       "version_minor": 0
      },
      "text/plain": [
       "Map:   0%|          | 0/1600 [00:00<?, ? examples/s]"
      ]
     },
     "metadata": {},
     "output_type": "display_data"
    },
    {
     "name": "stdout",
     "output_type": "stream",
     "text": [
      "✅ PPO Trainer initialized for RLHF fine-tuning with your trained reward model!\n"
     ]
    },
    {
     "name": "stderr",
     "output_type": "stream",
     "text": [
      "                                                               \r"
     ]
    },
    {
     "name": "stdout",
     "output_type": "stream",
     "text": [
      "Epoch 1 - Total Rewards: 0\n"
     ]
    },
    {
     "name": "stderr",
     "output_type": "stream",
     "text": [
      "                                                               \r"
     ]
    },
    {
     "name": "stdout",
     "output_type": "stream",
     "text": [
      "Epoch 2 - Total Rewards: 0\n"
     ]
    },
    {
     "name": "stderr",
     "output_type": "stream",
     "text": [
      "                                                               "
     ]
    },
    {
     "name": "stdout",
     "output_type": "stream",
     "text": [
      "Epoch 3 - Total Rewards: 0\n",
      "✅ Training completed!\n"
     ]
    },
    {
     "name": "stderr",
     "output_type": "stream",
     "text": [
      "\r"
     ]
    }
   ],
   "source": [
    "from trl import PPOTrainer, PPOConfig, set_seed\n",
    "from transformers import AutoModelForCausalLM, AutoModelForSequenceClassification, AutoTokenizer\n",
    "from trl.models import AutoModelForCausalLMWithValueHead\n",
    "import torch\n",
    "\n",
    "config = PPOConfig(\n",
    "    learning_rate=1e-5,\n",
    "    batch_size=16,  \n",
    "    mini_batch_size=4,\n",
    "    gradient_accumulation_steps=4,\n",
    ")\n",
    "\n",
    "pythia_tokenizer = AutoTokenizer.from_pretrained(\"EleutherAI/pythia-70m\")\n",
    "pythia_tokenizer.pad_token = pythia_tokenizer.eos_token  # Ensure correct padding ???\n",
    "roberta_tokenizer = AutoTokenizer.from_pretrained(\"/Users/shyaam/Documents/IRL/roberta-toxic-classifier\")\n",
    "roberta_tokenizer.pad_token = roberta_tokenizer.eos_token  # Ensure correct padding???\n",
    "model = AutoModelForCausalLMWithValueHead.from_pretrained(\"EleutherAI/pythia-70m\")\n",
    "ref_model = AutoModelForCausalLMWithValueHead.from_pretrained(\"EleutherAI/pythia-70m\")\n",
    "reward_model = AutoModelForSequenceClassification.from_pretrained(\"/Users/shyaam/Documents/IRL/roberta-toxic-classifier\")\n",
    "if hasattr(model.pretrained_model, \"resize_token_embeddings\"):\n",
    "    model.pretrained_model.resize_token_embeddings(len(pythia_tokenizer))\n",
    "\n",
    "def reward_fn(example):\n",
    "    inputs = roberta_tokenizer(example[\"Target Output\"], padding=True, truncation=True, return_tensors=\"pt\").to(reward_model.device)\n",
    "    vocab_size = roberta_tokenizer.vocab_size\n",
    "    inputs[\"input_ids\"] = torch.clamp(inputs[\"input_ids\"], max=vocab_size - 1)\n",
    "    with torch.no_grad():\n",
    "        outputs = reward_model(**inputs)    \n",
    "    logits = outputs.logits\n",
    "    reward = torch.sigmoid(logits[:, 0]).item()\n",
    "    return {\"reward\": reward} \n",
    "train_dataset = train_dataset.map(reward_fn)\n",
    "\n",
    "trainer = PPOTrainer(\n",
    "    config=config,\n",
    "    model=model,  \n",
    "    ref_model=ref_model,  \n",
    "    tokenizer=pythia_tokenizer, \n",
    "    dataset=train_dataset, \n",
    ")\n",
    "\n",
    "print(\"✅ PPO Trainer initialized for RLHF fine-tuning with your trained reward model!\")\n",
    "\n",
    "for epoch in range(3): \n",
    "    total_rewards = 0  \n",
    "    total_loss = 0   \n",
    "    for batch in tqdm(train_dataset, desc=f\"Epoch {epoch + 1}\", unit=\"batch\", leave=False):\n",
    "        batch_queries = []\n",
    "        batch_responses = []\n",
    "        batch_rewards = []\n",
    "        max_length = 512  \n",
    "        inputs = pythia_tokenizer(batch[\"Prompt\"], return_tensors=\"pt\", padding=True, truncation=True, max_length=max_length)\n",
    "        query_tensors = inputs.input_ids.to(model.pretrained_model.device)\n",
    "        attention_mask = inputs.attention_mask.to(model.pretrained_model.device)\n",
    "\n",
    "        response_tensors = model.generate(query_tensors, attention_mask=attention_mask, max_new_tokens=50, pad_token_id=pythia_tokenizer.eos_token_id)\n",
    "        response_texts = pythia_tokenizer.batch_decode(response_tensors, skip_special_tokens=True)\n",
    "        rewards = [reward_fn({\"Target Output\": text})[\"reward\"] for text in response_texts]\n",
    "        batch_queries.extend(query_tensors)\n",
    "        batch_responses.extend(response_tensors)\n",
    "        batch_rewards.extend(rewards)\n",
    "        if len(batch_queries) >= config.batch_size:\n",
    "\n",
    "            batch_rewards_tensor = [torch.tensor(reward, device=model.pretrained_model.device)\n",
    "                                    for reward in batch_rewards]\n",
    "            trainer.step(batch_queries, batch_responses, batch_rewards_tensor)\n",
    "            batch_queries.clear()\n",
    "            batch_responses.clear()\n",
    "            batch_rewards.clear()\n",
    "    tqdm.write(f\"Epoch {epoch + 1} - Total Rewards: {total_rewards}\")\n",
    "\n",
    "print(\"✅ Training completed!\")\n",
    "\n",
    "\n",
    "\n"
   ]
  },
  {
   "cell_type": "code",
   "execution_count": null,
   "metadata": {},
   "outputs": [],
   "source": []
  },
  {
   "cell_type": "code",
   "execution_count": 40,
   "metadata": {},
   "outputs": [
    {
     "name": "stdout",
     "output_type": "stream",
     "text": [
      "Models and tokenizers have been saved to //Users/shyaam/Documents/IRL/fine_tuned_models\n"
     ]
    }
   ],
   "source": [
    "save_directory = \"//Users/shyaam/Documents/IRL/fine_tuned_models\"\n",
    "model.save_pretrained(save_directory)\n",
    "ref_model.save_pretrained(save_directory)\n",
    "reward_model.save_pretrained(save_directory)\n",
    "pythia_tokenizer.save_pretrained(save_directory)\n",
    "roberta_tokenizer.save_pretrained(save_directory)\n",
    "print(f\"Models and tokenizers have been saved to {save_directory}\")\n"
   ]
  },
  {
   "cell_type": "code",
   "execution_count": 42,
   "metadata": {},
   "outputs": [
    {
     "data": {
      "text/plain": [
       "Dataset({\n",
       "    features: ['Prompt', 'Target Output', 'labels', 'input_ids', 'attention_mask'],\n",
       "    num_rows: 400\n",
       "})"
      ]
     },
     "execution_count": 42,
     "metadata": {},
     "output_type": "execute_result"
    }
   ],
   "source": [
    "test_dataset"
   ]
  },
  {
   "cell_type": "code",
   "execution_count": 57,
   "metadata": {},
   "outputs": [
    {
     "name": "stderr",
     "output_type": "stream",
     "text": [
      "If you want to use `RobertaLMHeadModel` as a standalone, add `is_decoder=True.`\n",
      "Some weights of RobertaForCausalLM were not initialized from the model checkpoint at /Users/shyaam/Documents/IRL/fine_tuned_models and are newly initialized: ['lm_head.bias', 'lm_head.decoder.bias', 'lm_head.dense.bias', 'lm_head.dense.weight', 'lm_head.layer_norm.bias', 'lm_head.layer_norm.weight']\n",
      "You should probably TRAIN this model on a down-stream task to be able to use it for predictions and inference.\n"
     ]
    },
    {
     "name": "stdout",
     "output_type": "stream",
     "text": [
      "Accuracy: 0.53\n",
      "F1 Score: 0.0\n"
     ]
    },
    {
     "data": {
      "image/png": "[encoded data removed]",
      "text/plain": [
       "<Figure size 640x480 with 1 Axes>"
      ]
     },
     "metadata": {},
     "output_type": "display_data"
    }
   ],
   "source": [
    "from sklearn.metrics import accuracy_score, f1_score\n",
    "from trl.models import AutoModelForCausalLMWithValueHead\n",
    "from transformers import  AutoModelForSequenceClassification, AutoTokenizer\n",
    "\n",
    "model = AutoModelForCausalLMWithValueHead.from_pretrained(\"/Users/shyaam/Documents/IRL/fine_tuned_models\")\n",
    "reward_model = AutoModelForSequenceClassification.from_pretrained(\"/Users/shyaam/Documents/IRL/fine_tuned_models\")\n",
    "pythia_tokenizer = AutoTokenizer.from_pretrained(\"/Users/shyaam/Documents/IRL/fine_tuned_models\")\n",
    "roberta_tokenizer = AutoTokenizer.from_pretrained(\"/Users/shyaam/Documents/IRL/fine_tuned_models\")\n",
    "device = torch.device(\"mps\" if torch.backends.mps.is_available() else \"cpu\")\n",
    "model.to(device)\n",
    "reward_model.to(device)\n",
    "\n",
    "\n",
    "def reward_fn(example):\n",
    "    inputs = roberta_tokenizer(example[\"Target Output\"], padding=True, truncation=True, return_tensors=\"pt\").to(device)\n",
    "    vocab_size = roberta_tokenizer.vocab_size\n",
    "    inputs[\"input_ids\"] = torch.clamp(inputs[\"input_ids\"], max=vocab_size - 1)\n",
    "    with torch.no_grad():\n",
    "        outputs = reward_model(**inputs)\n",
    "    logits = outputs.logits\n",
    "    reward = torch.sigmoid(logits[:, 0]).item()\n",
    "    return {\"reward\": reward}\n",
    "\n",
    "\n",
    "test_dataset = test_dataset  \n",
    "predictions = []\n",
    "ground_truth = test_dataset['labels']\n",
    "for i in range(len(test_dataset)):\n",
    "    input_ids = test_dataset['input_ids'][i]\n",
    "    attention_mask = test_dataset['attention_mask'][i]\n",
    "    input_ids = torch.tensor(input_ids).to(device).unsqueeze(0)\n",
    "    attention_mask = torch.tensor(attention_mask).to(device).unsqueeze(0) \n",
    "    max_input_length = 512 \n",
    "    max_new_tokens = 50  \n",
    "    total_length = input_ids.size(1) + max_new_tokens \n",
    "\n",
    "    if total_length > max_input_length:\n",
    "    \n",
    "        input_ids = input_ids[:, :max_input_length - max_new_tokens]  \n",
    "        attention_mask = attention_mask[:, :max_input_length - max_new_tokens] \n",
    "\n",
    "\n",
    "    response_tensors = model.generate(input_ids, attention_mask=attention_mask, max_new_tokens=max_new_tokens, pad_token_id=pythia_tokenizer.eos_token_id)\n",
    "    response_text = pythia_tokenizer.decode(response_tensors[0], skip_special_tokens=True)\n",
    "    \n",
    "\n",
    "    reward = reward_fn({\"Target Output\": response_text})[\"reward\"]\n",
    "    \n",
    "    \n",
    "    predictions.append(reward)\n",
    "threshold = 0.5\n",
    "predicted_labels = [1 if reward > threshold else 0 for reward in predictions]\n",
    "accuracy = accuracy_score(ground_truth, predicted_labels)\n",
    "f1 = f1_score(ground_truth, predicted_labels)\n",
    "\n",
    "print(f\"Accuracy: {accuracy}\")\n",
    "print(f\"F1 Score: {f1}\")\n",
    "import matplotlib.pyplot as plt\n",
    "plt.plot(ground_truth, label='Ground Truth')\n",
    "plt.plot(predicted_labels, label='Predictions')\n",
    "plt.legend()\n",
    "plt.show()\n"
   ]
  },
  {
   "cell_type": "code",
   "execution_count": null,
   "metadata": {},
   "outputs": [],
   "source": []
  },
  {
   "cell_type": "code",
   "execution_count": null,
   "metadata": {},
   "outputs": [],
   "source": []
  },
  {
   "cell_type": "code",
   "execution_count": null,
   "metadata": {},
   "outputs": [],
   "source": []
  },
  {
   "cell_type": "code",
   "execution_count": null,
   "metadata": {},
   "outputs": [],
   "source": []
  },
  {
   "cell_type": "code",
   "execution_count": null,
   "metadata": {},
   "outputs": [],
   "source": []
  },
  {
   "cell_type": "code",
   "execution_count": 28,
   "metadata": {},
   "outputs": [
    {
     "name": "stdout",
     "output_type": "stream",
     "text": [
      "tensor([[-4.7614,  5.1223]])\n"
     ]
    }
   ],
   "source": [
    "with torch.no_grad():\n",
    "    outputs = reward_model(**inputs)\n",
    "    print(outputs.logits)\n"
   ]
  },
  {
   "cell_type": "code",
   "execution_count": 29,
   "metadata": {},
   "outputs": [
    {
     "name": "stdout",
     "output_type": "stream",
     "text": [
      "{'input_ids': tensor([[ 2400, 13052, 29292,   426,    10,   535,   337,   187,    17,   470]]), 'attention_mask': tensor([[1, 1, 1, 1, 1, 1, 1, 1, 1, 1]])}\n"
     ]
    }
   ],
   "source": [
    "inputs = pythia_tokenizer(batch[\"Prompt\"], return_tensors=\"pt\", padding=True, truncation=True, max_length=512)\n",
    "print(inputs) \n"
   ]
  },
  {
   "cell_type": "code",
   "execution_count": 30,
   "metadata": {},
   "outputs": [
    {
     "name": "stdout",
     "output_type": "stream",
     "text": [
      "tensor([[ 2400, 13052, 29292,   426,    10,   535,   337,   187,    17,   470]])\n"
     ]
    }
   ],
   "source": [
    "print(inputs.input_ids) \n"
   ]
  },
  {
   "cell_type": "code",
   "execution_count": 23,
   "metadata": {},
   "outputs": [
    {
     "name": "stdout",
     "output_type": "stream",
     "text": [
      "Generated Responses: [\"don't u dear delete my page again alrite u nigger\\n<michael_michael_nigger> i'm not sure if i'm wrong, but i'm not sure if i'm wrong\\n<michael_michael_nigger> i'm not sure if i'm wrong, but\"]\n"
     ]
    }
   ],
   "source": [
    "response_texts = pythia_tokenizer.batch_decode(response_tensors, skip_special_tokens=True)\n",
    "print(f\"Generated Responses: {response_texts}\") \n"
   ]
  },
  {
   "cell_type": "code",
   "execution_count": 25,
   "metadata": {},
   "outputs": [
    {
     "name": "stdout",
     "output_type": "stream",
     "text": [
      "Tokenized input: {'input_ids': tensor([[   58, 11862,   329,   500, 32344, 18963, 15844,  2490,   187,  1394,\n",
      "           403,   247, 27964, 26352, 22658, 11566,     2]]), 'attention_mask': tensor([[1, 1, 1, 1, 1, 1, 1, 1, 1, 1, 1, 1, 1, 1, 1, 1, 1]])}\n"
     ]
    }
   ],
   "source": [
    "inputs = pythia_tokenizer(batch[\"Prompt\"], return_tensors=\"pt\", padding=True, truncation=True, max_length=512)\n",
    "print(f\"Tokenized input: {inputs}\")\n"
   ]
  },
  {
   "cell_type": "code",
   "execution_count": 32,
   "metadata": {},
   "outputs": [
    {
     "name": "stdout",
     "output_type": "stream",
     "text": [
      "tensor([[-4.7614,  5.1223]])\n"
     ]
    }
   ],
   "source": [
    "with torch.no_grad():\n",
    "    outputs = reward_model(**inputs)  \n",
    "    logits = outputs.logits\n",
    "    print(logits) \n"
   ]
  },
  {
   "cell_type": "code",
   "execution_count": 33,
   "metadata": {},
   "outputs": [],
   "source": [
    "reward = torch.sigmoid(logits)\n"
   ]
  },
  {
   "cell_type": "code",
   "execution_count": 34,
   "metadata": {},
   "outputs": [
    {
     "data": {
      "text/plain": [
       "tensor([[0.0085, 0.9941]])"
      ]
     },
     "execution_count": 34,
     "metadata": {},
     "output_type": "execute_result"
    }
   ],
   "source": [
    "reward"
   ]
  }
 ],
 "metadata": {
  "kernelspec": {
   "display_name": "Python 3",
   "language": "python",
   "name": "python3"
  },
  "language_info": {
   "codemirror_mode": {
    "name": "ipython",
    "version": 3
   },
   "file_extension": ".py",
   "mimetype": "text/x-python",
   "name": "python",
   "nbconvert_exporter": "python",
   "pygments_lexer": "ipython3",
   "version": "3.9.6"
  }
 },
 "nbformat": 4,
 "nbformat_minor": 2
}
